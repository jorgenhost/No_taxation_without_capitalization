{
 "cells": [
  {
   "cell_type": "code",
   "execution_count": 1,
   "metadata": {},
   "outputs": [
    {
     "name": "stderr",
     "output_type": "stream",
     "text": [
      "C:\\Users\\Nis\\AppData\\Local\\Temp\\ipykernel_6992\\3027055954.py:24: MatplotlibDeprecationWarning: The seaborn styles shipped by Matplotlib are deprecated since 3.6, as they no longer correspond to the styles shipped by seaborn. However, they will remain available as 'seaborn-v0_8-<style>'. Alternatively, directly use the seaborn API instead.\n",
      "  plt.style.use('seaborn-whitegrid')\n"
     ]
    }
   ],
   "source": [
    "import tools as tools\n",
    "\n",
    "from pathlib import Path\n",
    "\n",
    "# Standard imports \n",
    "import numpy as np\n",
    "import pandas as pd\n",
    "\n",
    "\n",
    "# OS and time packages \n",
    "import time\n",
    "import tqdm\n",
    "import concurrent.futures\n",
    "\n",
    "# HTML and text processing \n",
    "import json\n",
    "\n",
    "import time\n",
    "\n",
    "# Plotting \n",
    "import matplotlib.pyplot as plt \n",
    "import seaborn as sns\n",
    "\n",
    "plt.style.use('seaborn-whitegrid')\n",
    "%matplotlib inline\n",
    "\n",
    "plt.rc('font', size=14)             # controls default text sizes\n",
    "plt.rc('axes', titlesize=18)        # fontsize of the axes title\n",
    "plt.rc('axes', labelsize=18)        # fontsize of the x and y labels\n",
    "plt.rc('xtick', labelsize=14)       # fontsize of the tick labels\n",
    "plt.rc('ytick', labelsize=14)       # fontsize of the tick labels\n",
    "plt.rc('legend', fontsize=14)       # legend fontsize\n",
    "plt.rc('figure', titlesize=20)      # fontsize of the figure title\n",
    "\n",
    "plt.rcParams['figure.figsize'] = 10, 4 # set default size of plots\n",
    "\n",
    "# Filter warnings \n",
    "pd.options.mode.chained_assignment = None\n",
    "from warnings import simplefilter\n",
    "from sklearn.exceptions import ConvergenceWarning\n",
    "simplefilter(\"ignore\", category=ConvergenceWarning)"
   ]
  },
  {
   "cell_type": "markdown",
   "metadata": {},
   "source": [
    "Header (state non-commercial/academic intentions)"
   ]
  },
  {
   "cell_type": "code",
   "execution_count": 2,
   "metadata": {},
   "outputs": [],
   "source": [
    "header = {'name' : 'Jørgen Baun Høst',          'email' : 'pjz633@econ.ku.dk',\n",
    "          'intention': 'Scrape Boliga for academic purposes'}"
   ]
  },
  {
   "cell_type": "markdown",
   "metadata": {},
   "source": [
    "Meta data"
   ]
  },
  {
   "cell_type": "code",
   "execution_count": null,
   "metadata": {},
   "outputs": [],
   "source": [
    "url = 'https://api.boliga.dk/api/v2/sold/search/results?pageSize=2000&page=1&salesDateMin=1996&salesDateMax=2012&propertytype=1&saleType=1&sort=date-d&buildYearMax=2005'\n",
    "bbr_test_url = 'https://api.boliga.dk/api/v2/bbrinfo/bbr?id=69cd6d3d-e858-43aa-b530-bd20f132e3b8'\n",
    "output=tools.get_json(url=url, header=header)\n",
    "output['meta']"
   ]
  },
  {
   "cell_type": "code",
   "execution_count": null,
   "metadata": {},
   "outputs": [],
   "source": [
    "output['results']"
   ]
  },
  {
   "cell_type": "markdown",
   "metadata": {},
   "source": [
    "Make list of urls"
   ]
  },
  {
   "cell_type": "code",
   "execution_count": null,
   "metadata": {},
   "outputs": [],
   "source": [
    "list_of_url = []\n",
    "\n",
    "total_pages = output['meta']['totalPages']\n",
    "\n",
    "for page in range(1, total_pages+1):\n",
    "    url = f'https://api.boliga.dk/api/v2/sold/search/results?pageSize=2000&page={page}&salesDateMin=1996&salesDateMax=2012&propertytype=1&saleType=1&sort=date-d&buildYearMax=2005'\n",
    "    list_of_url.append(url)"
   ]
  },
  {
   "cell_type": "code",
   "execution_count": null,
   "metadata": {},
   "outputs": [
    {
     "name": "stderr",
     "output_type": "stream",
     "text": [
      "100%|██████████| 396/396 [04:28<00:00,  1.48it/s]\n"
     ]
    }
   ],
   "source": [
    "errors = []\n",
    "\n",
    "def process_url(id_url_pair):\n",
    "    id_, url = id_url_pair\n",
    "    try:\n",
    "        time.sleep(0.5)\n",
    "        out = tools.get_json(url, header)\n",
    "        return id_, out['results']\n",
    "    except:\n",
    "        print(f'Error encountered on url {url}')\n",
    "        errors.append(url)\n",
    "        pd.DataFrame(errors).to_csv\n",
    "        return id_, None\n",
    "\n",
    "id_url_pairs = [(id_, url) for id_, url in enumerate(list_of_url)]\n",
    "\n",
    "with concurrent.futures.ThreadPoolExecutor(max_workers=6) as executor:\n",
    "    results = list(tqdm.tqdm(executor.map(process_url, id_url_pairs), total=len(id_url_pairs)))\n",
    "\n",
    "for result in results:\n",
    "    id_, data = result\n",
    "    if data is not None:\n",
    "       with open(f'data/boliga/boliga_{id_}.json', \"w\") as fp:\n",
    "        json.dump(data,fp) "
   ]
  },
  {
   "attachments": {},
   "cell_type": "markdown",
   "metadata": {},
   "source": [
    "## Merge and clean data from Boliga"
   ]
  },
  {
   "cell_type": "code",
   "execution_count": null,
   "metadata": {},
   "outputs": [],
   "source": [
    "data_dir = Path('data/boliga')\n",
    "full_df1 = pd.concat(\n",
    "    pd.DataFrame(json.load(open(json_file)))\n",
    "    for json_file in data_dir.glob('*.json')\n",
    ")\n",
    "\n",
    "df=full_df1.reset_index(drop=True)\n",
    "df['soldDate']=pd.to_datetime(df['soldDate'])\n",
    "df['year']=df.soldDate.dt.year\n",
    "df['month']=df.soldDate.dt.month\n",
    "df['week']=df.soldDate.dt.weekday\n",
    "df['time_q']=pd.PeriodIndex(df['soldDate'], freq='Q')\n",
    "\n",
    "df=df.drop(columns=['change'])"
   ]
  },
  {
   "attachments": {},
   "cell_type": "markdown",
   "metadata": {},
   "source": [
    "## Read BBR urls to scrape"
   ]
  },
  {
   "cell_type": "code",
   "execution_count": null,
   "metadata": {},
   "outputs": [],
   "source": [
    "list_of_bbr_urls = []\n",
    "list_of_guids = list(df['guid'].unique())\n",
    "\n",
    "for i,guid in enumerate(list_of_guids):\n",
    "    bbr_url = f'https://api.boliga.dk/api/v2/bbrinfo/bbr?id={guid}'\n",
    "    list_of_bbr_urls.append(bbr_url)\n",
    "\n",
    "pd.DataFrame(list_of_bbr_urls, columns=['bbr_url']).to_parquet('data/bbr_ids_scraper.pq')"
   ]
  },
  {
   "attachments": {},
   "cell_type": "markdown",
   "metadata": {},
   "source": [
    "Clear variables in workspace and read in urls to scrape. Some house are sold multiple times (so is uncessary to scrape more than once)"
   ]
  },
  {
   "cell_type": "code",
   "execution_count": 3,
   "metadata": {},
   "outputs": [
    {
     "data": {
      "text/plain": [
       "519604"
      ]
     },
     "execution_count": 3,
     "metadata": {},
     "output_type": "execute_result"
    }
   ],
   "source": [
    "%reset \n",
    "temp_df = pd.read_parquet('data/bbr_ids_scraper.pq')\n",
    "list_of_bbr_urls = list(temp_df['bbr_url'])\n",
    "len(list_of_bbr_urls)"
   ]
  },
  {
   "cell_type": "code",
   "execution_count": 4,
   "metadata": {},
   "outputs": [
    {
     "name": "stderr",
     "output_type": "stream",
     "text": [
      " 32%|███▏      | 166793/519604 [5:46:40<27:28:21,  3.57it/s]"
     ]
    },
    {
     "name": "stdout",
     "output_type": "stream",
     "text": [
      "Error encountered on url https://api.boliga.dk/api/v2/bbrinfo/bbr?id=BD1739EB-EF62-4E57-8513-4E4029D0C24A\n",
      "Error encountered on url https://api.boliga.dk/api/v2/bbrinfo/bbr?id=38CB7F4A-7ADD-48CD-BD19-7FA987D2F790\n",
      "Error encountered on url https://api.boliga.dk/api/v2/bbrinfo/bbr?id=A852F4F3-7E10-4285-BD81-19A3BDF05529\n"
     ]
    },
    {
     "name": "stderr",
     "output_type": "stream",
     "text": [
      " 58%|█████▊    | 302788/519604 [10:34:23<381:12:55,  6.33s/it]"
     ]
    },
    {
     "name": "stdout",
     "output_type": "stream",
     "text": [
      "Error encountered on url https://api.boliga.dk/api/v2/bbrinfo/bbr?id=C30F38D6-6C73-4D69-A02E-FB6D7E5F8615Error encountered on url https://api.boliga.dk/api/v2/bbrinfo/bbr?id=5311E0B5-219C-4EFF-82FD-D52A92B063E6\n",
      "\n"
     ]
    },
    {
     "name": "stderr",
     "output_type": "stream",
     "text": [
      " 76%|███████▌  | 392810/519604 [14:09:36<845:37:42, 24.01s/it]"
     ]
    },
    {
     "name": "stdout",
     "output_type": "stream",
     "text": [
      "Error encountered on url https://api.boliga.dk/api/v2/bbrinfo/bbr?id=C6404315-15DB-4E58-973A-2449D1A1F2FB\n",
      "Error encountered on url https://api.boliga.dk/api/v2/bbrinfo/bbr?id=B4F3C9FF-D25A-41FD-B36E-B1482C4BDC0D\n",
      "Error encountered on url https://api.boliga.dk/api/v2/bbrinfo/bbr?id=748D647D-9CE4-478A-B149-8D293CFDD855\n"
     ]
    },
    {
     "name": "stderr",
     "output_type": "stream",
     "text": [
      "100%|██████████| 519604/519604 [18:56:07<00:00,  7.62it/s]    \n"
     ]
    }
   ],
   "source": [
    "errors = []\n",
    "\n",
    "def process_url(id_url_pair):\n",
    "    id_, url = id_url_pair\n",
    "    try:\n",
    "        time.sleep(0.5)\n",
    "        out = tools.get_json(url, header)\n",
    "        with open(f'data/bbr/bbr{id_}.json', \"w\") as fp:\n",
    "            json.dump(data,fp) \n",
    "        return id_, out\n",
    "    except:\n",
    "        print(f'Error encountered on url {url}')\n",
    "        errors.append(url)\n",
    "        pd.DataFrame(errors).to_csv\n",
    "        return id_, None\n",
    "\n",
    "id_url_pairs = [(id_, url) for id_, url in enumerate(list_of_bbr_urls)]\n",
    "\n",
    "with concurrent.futures.ThreadPoolExecutor(max_workers=6) as executor:\n",
    "    results = list(tqdm.tqdm(executor.map(process_url, id_url_pairs), total=len(id_url_pairs)))"
   ]
  },
  {
   "cell_type": "code",
   "execution_count": null,
   "metadata": {},
   "outputs": [],
   "source": []
  }
 ],
 "metadata": {
  "kernelspec": {
   "display_name": "base",
   "language": "python",
   "name": "python3"
  },
  "language_info": {
   "codemirror_mode": {
    "name": "ipython",
    "version": 3
   },
   "file_extension": ".py",
   "mimetype": "text/x-python",
   "name": "python",
   "nbconvert_exporter": "python",
   "pygments_lexer": "ipython3",
   "version": "3.9.16"
  },
  "orig_nbformat": 4
 },
 "nbformat": 4,
 "nbformat_minor": 2
}
