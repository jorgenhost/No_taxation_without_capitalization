{
 "cells": [
  {
   "cell_type": "code",
   "execution_count": 2,
   "metadata": {},
   "outputs": [
    {
     "name": "stderr",
     "output_type": "stream",
     "text": [
      "C:\\Users\\JBH\\AppData\\Local\\Temp\\ipykernel_14172\\276678266.py:37: MatplotlibDeprecationWarning: The seaborn styles shipped by Matplotlib are deprecated since 3.6, as they no longer correspond to the styles shipped by seaborn. However, they will remain available as 'seaborn-v0_8-<style>'. Alternatively, directly use the seaborn API instead.\n",
      "  plt.style.use('seaborn-whitegrid')\n"
     ]
    }
   ],
   "source": [
    "import tools as tools\n",
    "import geopandas as gpd\n",
    "from shapely.geometry import Point\n",
    "from shapely.geometry.polygon import Polygon\n",
    "\n",
    "import dask.dataframe as dd\n",
    "\n",
    "# Standard imports \n",
    "import numpy as np\n",
    "import pandas as pd\n",
    "\n",
    "\n",
    "# OS and time packages \n",
    "import os\n",
    "import time\n",
    "import tqdm\n",
    "import concurrent.futures\n",
    "from pathlib import Path\n",
    "from selenium.webdriver.support.ui import WebDriverWait\n",
    "from selenium.webdriver.support import expected_conditions as EC\n",
    "\n",
    "# HTML and text processing \n",
    "import requests\n",
    "from bs4 import BeautifulSoup\n",
    "import json\n",
    "import re\n",
    "\n",
    "import time\n",
    "from bs4 import BeautifulSoup\n",
    "from selenium import webdriver\n",
    "from webdriver_manager.chrome import ChromeDriverManager\n",
    "\n",
    "# Plotting \n",
    "import matplotlib.pyplot as plt \n",
    "import seaborn as sns\n",
    "\n",
    "plt.style.use('seaborn-whitegrid')\n",
    "%matplotlib inline\n",
    "\n",
    "plt.rc('font', size=14)             # controls default text sizes\n",
    "plt.rc('axes', titlesize=18)        # fontsize of the axes title\n",
    "plt.rc('axes', labelsize=18)        # fontsize of the x and y labels\n",
    "plt.rc('xtick', labelsize=14)       # fontsize of the tick labels\n",
    "plt.rc('ytick', labelsize=14)       # fontsize of the tick labels\n",
    "plt.rc('legend', fontsize=14)       # legend fontsize\n",
    "plt.rc('figure', titlesize=20)      # fontsize of the figure title\n",
    "\n",
    "plt.rcParams['figure.figsize'] = 10, 4 # set default size of plots\n",
    "\n",
    "# Filter warnings \n",
    "pd.options.mode.chained_assignment = None\n",
    "from warnings import simplefilter\n",
    "from sklearn.exceptions import ConvergenceWarning\n",
    "simplefilter(\"ignore\", category=ConvergenceWarning)"
   ]
  },
  {
   "cell_type": "code",
   "execution_count": 3,
   "metadata": {},
   "outputs": [],
   "source": [
    "data_dir = Path('data/boliga')\n",
    "full_df1 = pd.concat(\n",
    "    pd.DataFrame(json.load(open(json_file)))\n",
    "    for json_file in data_dir.glob('*.json')\n",
    ")\n",
    "\n",
    "df=full_df1.reset_index(drop=True)\n",
    "df['soldDate']=pd.to_datetime(df['soldDate'])\n",
    "df=df.sort_values('soldDate')\n",
    "df['year']=df.soldDate.dt.year\n",
    "df['month']=df.soldDate.dt.month\n",
    "df['week']=df.soldDate.dt.weekday\n",
    "df['time_q']=pd.PeriodIndex(df['soldDate'], freq='Q')\n",
    "\n",
    "df=df.drop(columns=['change'])\n",
    "df.to_parquet('data/boliga.pq')"
   ]
  }
 ],
 "metadata": {
  "kernelspec": {
   "display_name": "base",
   "language": "python",
   "name": "python3"
  },
  "language_info": {
   "codemirror_mode": {
    "name": "ipython",
    "version": 3
   },
   "file_extension": ".py",
   "mimetype": "text/x-python",
   "name": "python",
   "nbconvert_exporter": "python",
   "pygments_lexer": "ipython3",
   "version": "3.9.16"
  },
  "orig_nbformat": 4
 },
 "nbformat": 4,
 "nbformat_minor": 2
}
