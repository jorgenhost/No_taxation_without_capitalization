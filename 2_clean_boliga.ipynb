{
 "cells": [
  {
   "cell_type": "code",
   "execution_count": 2,
   "metadata": {},
   "outputs": [
    {
     "name": "stderr",
     "output_type": "stream",
     "text": [
      "C:\\Users\\JBH\\AppData\\Local\\Temp\\ipykernel_14172\\276678266.py:37: MatplotlibDeprecationWarning: The seaborn styles shipped by Matplotlib are deprecated since 3.6, as they no longer correspond to the styles shipped by seaborn. However, they will remain available as 'seaborn-v0_8-<style>'. Alternatively, directly use the seaborn API instead.\n",
      "  plt.style.use('seaborn-whitegrid')\n"
     ]
    }
   ],
   "source": [
    "import tools as tools\n",
    "\n",
    "# Standard imports \n",
    "import pandas as pd\n",
    "from pathlib import Path\n",
    "\n",
    "# HTML and text processing \n",
    "import json"
   ]
  },
  {
   "cell_type": "code",
   "execution_count": 3,
   "metadata": {},
   "outputs": [],
   "source": [
    "data_dir = Path('data/boliga')\n",
    "full_df1 = pd.concat(\n",
    "    pd.DataFrame(json.load(open(json_file)))\n",
    "    for json_file in data_dir.glob('*.json')\n",
    ")\n",
    "\n",
    "df=full_df1.reset_index(drop=True)\n",
    "df['soldDate']=pd.to_datetime(df['soldDate'])\n",
    "df=df.sort_values('soldDate')\n",
    "df['year']=df.soldDate.dt.year\n",
    "df['month']=df.soldDate.dt.month\n",
    "df['week']=df.soldDate.dt.weekday\n",
    "df['time_q']=pd.PeriodIndex(df['soldDate'], freq='Q')\n",
    "\n",
    "df=df.drop(columns=['change'])\n",
    "df.to_parquet('data/boliga.pq')"
   ]
  }
 ],
 "metadata": {
  "kernelspec": {
   "display_name": "base",
   "language": "python",
   "name": "python3"
  },
  "language_info": {
   "codemirror_mode": {
    "name": "ipython",
    "version": 3
   },
   "file_extension": ".py",
   "mimetype": "text/x-python",
   "name": "python",
   "nbconvert_exporter": "python",
   "pygments_lexer": "ipython3",
   "version": "3.9.16"
  },
  "orig_nbformat": 4
 },
 "nbformat": 4,
 "nbformat_minor": 2
}
