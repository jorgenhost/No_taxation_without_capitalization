{
 "cells": [
  {
   "cell_type": "code",
   "execution_count": 5,
   "metadata": {},
   "outputs": [],
   "source": [
    "import pandas as pd\n",
    "import tools as tools"
   ]
  },
  {
   "cell_type": "code",
   "execution_count": 6,
   "metadata": {},
   "outputs": [],
   "source": [
    "# Place all BBR files in path data/bbr \n",
    "\n",
    "\n",
    "# %run -i '2_bbr_merge.py'"
   ]
  },
  {
   "attachments": {},
   "cell_type": "markdown",
   "metadata": {},
   "source": [
    "Read in bbr data"
   ]
  },
  {
   "cell_type": "code",
   "execution_count": 7,
   "metadata": {},
   "outputs": [],
   "source": [
    "bbr_df = pd.read_parquet('data/bbr_merged.pq')\n",
    "bbr_df"
   ]
  },
  {
   "attachments": {},
   "cell_type": "markdown",
   "metadata": {},
   "source": [
    "Extract and save evals by year "
   ]
  },
  {
   "cell_type": "code",
   "execution_count": 4,
   "metadata": {},
   "outputs": [],
   "source": [
    "for i in range(1996, 2010):\n",
    "    propertyvals=tools.get_evals_bbr(bbr_df, i)\n",
    "    propertyvals.to_parquet(f'data/bbr_eval{i}.pq')"
   ]
  },
  {
   "attachments": {},
   "cell_type": "markdown",
   "metadata": {},
   "source": [
    "Get lot size"
   ]
  },
  {
   "cell_type": "code",
   "execution_count": 13,
   "metadata": {},
   "outputs": [
    {
     "data": {
      "text/html": [
       "<div>\n",
       "<style scoped>\n",
       "    .dataframe tbody tr th:only-of-type {\n",
       "        vertical-align: middle;\n",
       "    }\n",
       "\n",
       "    .dataframe tbody tr th {\n",
       "        vertical-align: top;\n",
       "    }\n",
       "\n",
       "    .dataframe thead th {\n",
       "        text-align: right;\n",
       "    }\n",
       "</style>\n",
       "<table border=\"1\" class=\"dataframe\">\n",
       "  <thead>\n",
       "    <tr style=\"text-align: right;\">\n",
       "      <th></th>\n",
       "      <th>guid</th>\n",
       "      <th>lot_size</th>\n",
       "    </tr>\n",
       "  </thead>\n",
       "  <tbody>\n",
       "    <tr>\n",
       "      <th>0</th>\n",
       "      <td>4f53331c-22c9-4205-9461-27ea1d70e5d9</td>\n",
       "      <td>3479</td>\n",
       "    </tr>\n",
       "    <tr>\n",
       "      <th>1</th>\n",
       "      <td>fe3c7851-8ed5-4a34-b37b-7f9c9a5c8651</td>\n",
       "      <td>1205</td>\n",
       "    </tr>\n",
       "    <tr>\n",
       "      <th>2</th>\n",
       "      <td>664e5839-f106-4fe3-b996-b7e22c36a6e3</td>\n",
       "      <td>704</td>\n",
       "    </tr>\n",
       "    <tr>\n",
       "      <th>3</th>\n",
       "      <td>ddc85eb9-d4a9-4b81-b68a-bcf30351b5c6</td>\n",
       "      <td>1623</td>\n",
       "    </tr>\n",
       "    <tr>\n",
       "      <th>4</th>\n",
       "      <td>5b13820b-5fbc-42f9-9333-7fecc473ef2b</td>\n",
       "      <td>639</td>\n",
       "    </tr>\n",
       "    <tr>\n",
       "      <th>...</th>\n",
       "      <td>...</td>\n",
       "      <td>...</td>\n",
       "    </tr>\n",
       "    <tr>\n",
       "      <th>519591</th>\n",
       "      <td>6382cf23-613a-4d95-9fb0-b49611b2efc8</td>\n",
       "      <td>900</td>\n",
       "    </tr>\n",
       "    <tr>\n",
       "      <th>519592</th>\n",
       "      <td>005ac5ce-d978-4df4-a470-7b81fdc59641</td>\n",
       "      <td>366</td>\n",
       "    </tr>\n",
       "    <tr>\n",
       "      <th>519593</th>\n",
       "      <td>fd9ef5d3-5f58-447d-a625-31344a8f345d</td>\n",
       "      <td>776</td>\n",
       "    </tr>\n",
       "    <tr>\n",
       "      <th>519594</th>\n",
       "      <td>67b96c26-cd54-4c5e-8a2d-1e785e353db5</td>\n",
       "      <td>662</td>\n",
       "    </tr>\n",
       "    <tr>\n",
       "      <th>519595</th>\n",
       "      <td>26cae773-7af1-4114-aeba-2d976c790df5</td>\n",
       "      <td>949</td>\n",
       "    </tr>\n",
       "  </tbody>\n",
       "</table>\n",
       "<p>519596 rows × 2 columns</p>\n",
       "</div>"
      ],
      "text/plain": [
       "                                        guid  lot_size\n",
       "0       4f53331c-22c9-4205-9461-27ea1d70e5d9      3479\n",
       "1       fe3c7851-8ed5-4a34-b37b-7f9c9a5c8651      1205\n",
       "2       664e5839-f106-4fe3-b996-b7e22c36a6e3       704\n",
       "3       ddc85eb9-d4a9-4b81-b68a-bcf30351b5c6      1623\n",
       "4       5b13820b-5fbc-42f9-9333-7fecc473ef2b       639\n",
       "...                                      ...       ...\n",
       "519591  6382cf23-613a-4d95-9fb0-b49611b2efc8       900\n",
       "519592  005ac5ce-d978-4df4-a470-7b81fdc59641       366\n",
       "519593  fd9ef5d3-5f58-447d-a625-31344a8f345d       776\n",
       "519594  67b96c26-cd54-4c5e-8a2d-1e785e353db5       662\n",
       "519595  26cae773-7af1-4114-aeba-2d976c790df5       949\n",
       "\n",
       "[519596 rows x 2 columns]"
      ]
     },
     "execution_count": 13,
     "metadata": {},
     "output_type": "execute_result"
    }
   ],
   "source": [
    "df_lot_size = bbr_df[['guid', 'bbrInfoBox.lotSize']]\n",
    "df_lot_size = df_lot_size.rename(columns={'bbrInfoBox.lotSize': 'lot_size'})\n",
    "df_lot_size"
   ]
  },
  {
   "cell_type": "code",
   "execution_count": 14,
   "metadata": {},
   "outputs": [],
   "source": [
    "df_lot_size.to_parquet('data/bbr_lotsize.pq')"
   ]
  }
 ],
 "metadata": {
  "kernelspec": {
   "display_name": "base",
   "language": "python",
   "name": "python3"
  },
  "language_info": {
   "codemirror_mode": {
    "name": "ipython",
    "version": 3
   },
   "file_extension": ".py",
   "mimetype": "text/x-python",
   "name": "python",
   "nbconvert_exporter": "python",
   "pygments_lexer": "ipython3",
   "version": "3.9.16"
  },
  "orig_nbformat": 4
 },
 "nbformat": 4,
 "nbformat_minor": 2
}
